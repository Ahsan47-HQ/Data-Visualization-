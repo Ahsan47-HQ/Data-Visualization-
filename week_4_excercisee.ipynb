{
 "cells": [
  {
   "cell_type": "code",
   "execution_count": 2,
   "id": "fc549fd0",
   "metadata": {},
   "outputs": [],
   "source": [
    "#Data Visualization\n",
    "#Btech Computer Science Stream, January 2025\n",
    "#Week 4 Introdcution to Pandas\n",
    "# Name: Mohammed Ahsan Bagsaria , 240968484 , Date:06/02/2025\n",
    "import numpy as np\n",
    "import pandas as pd"
   ]
  },
  {
   "cell_type": "code",
   "execution_count": 3,
   "id": "d4a371dc",
   "metadata": {},
   "outputs": [
    {
     "name": "stdout",
     "output_type": "stream",
     "text": [
      "The mean temperature for the week is: 13.558571428571428\n",
      "==============\n",
      "The maximum temperature for the week is: Saturday    18.47\n",
      "dtype: float64\n",
      "The minimum temperature for the week is: Sunday    7.56\n",
      "dtype: float64\n",
      "==============\n"
     ]
    },
    {
     "name": "stdin",
     "output_type": "stream",
     "text": [
      "Enter the temperature for which the higher values will be displayed:  13.567\n"
     ]
    },
    {
     "name": "stdout",
     "output_type": "stream",
     "text": [
      "Result:\n",
      " Wednesday    14.77\n",
      "Thursday     15.66\n",
      "Saturday     18.47\n",
      "dtype: float64\n",
      "==============\n",
      "The temperatures for the week in fahrenheit are:\n",
      " Sunday       45.608\n",
      "Monday       54.410\n",
      "Tuesday      56.408\n",
      "Wednesday    58.586\n",
      "Thursday     60.188\n",
      "Friday       54.392\n",
      "Saturday     65.246\n",
      "dtype: float64\n",
      "==============\n",
      "The days where temp is above the average:\n",
      " Tuesday      13.56\n",
      "Wednesday    14.77\n",
      "Thursday     15.66\n",
      "Saturday     18.47\n",
      "dtype: float64\n"
     ]
    }
   ],
   "source": [
    "'''\n",
    "1. Create a Series from a list of integers representing daily \n",
    "temperatures (in Celsius) over a week. Assign index labels as day \n",
    "of the week. \n",
    "a. Find and print the average (mean) temperature for the week. \n",
    "b. Identify and print the maximum and minimum temperatures \n",
    "and their respective days. \n",
    "c. Display the temperatures greater than a specific value. \n",
    "d. Convert all temperatures to Fahrenheit. \n",
    "e. Print the days had temperatures above the average.\n",
    "'''\n",
    "s1 = pd.Series([7.56,12.45,13.56,14.77,15.66,12.44,18.47],\n",
    "               index=['Sunday','Monday','Tuesday','Wednesday','Thursday','Friday','Saturday'])\n",
    "#Part-a\n",
    "print(\"The mean temperature for the week is:\",s1.mean())\n",
    "print(\"==============\")\n",
    "#Part-b\n",
    "print(\"The maximum temperature for the week is:\",s1[s1 == s1.max()])\n",
    "print(\"The minimum temperature for the week is:\",s1[s1 == s1.min()])\n",
    "print(\"==============\")\n",
    "#Part-c\n",
    "temp = float(input(\"Enter the temperature for which the higher values will be displayed: \"))\n",
    "print(\"Result:\\n\",s1[s1>=temp])\n",
    "print(\"==============\")\n",
    "#Part-d\n",
    "print(\"The temperatures for the week in fahrenheit are:\\n\",((9/5*s1)+32))\n",
    "print(\"==============\")\n",
    "#Part-e\n",
    "print(\"The days where temp is above the average:\\n\",s1[s1>s1.mean()])"
   ]
  },
  {
   "cell_type": "code",
   "execution_count": 10,
   "id": "dfd7f1e2",
   "metadata": {},
   "outputs": [
    {
     "name": "stdout",
     "output_type": "stream",
     "text": [
      "New column 'Total Marks' created\n",
      "==============\n",
      "The lowest marks in Marks1:  45\n",
      "==============\n",
      "The highest marks in Marks2:  96\n",
      "==============\n",
      "The average marks in Marks3:  67.4\n",
      "==============\n",
      "The student with the highest average: \n",
      " 3    Albert\n",
      "Name: Name, dtype: object\n",
      "==============\n",
      "Number of students who failed in Marks2: \n",
      " 2       Abhimanyu\n",
      "7          Samuel\n",
      "8        Hamilton\n",
      "9    Nikola Tesla\n",
      "Name: Name, dtype: object\n"
     ]
    }
   ],
   "source": [
    "'''\n",
    "2. Create a data frame with details of 10 students and columns as \n",
    "Roll Number, Name, Gender, Marks1, Marks2, Marks3. \n",
    "a. Create a new column with total marks \n",
    "b. Find the lowest marks in Marks1 \n",
    "c. Find the Highest marks in Marks2 \n",
    "d. Find the average marks in Marks3 \n",
    "e. Find student name with highest average \n",
    "f. Find how many students failed in Marks2 (<40) \n",
    "'''\n",
    "dict_1 = {'Roll_No':[1,2,3,4,5,6,7,8,9,10],\n",
    "          'Name':['Rahul','Rohit','Abhimanyu','Albert','Ajay','Purohit','Schrodinger','Samuel','Hamilton','Nikola Tesla'],\n",
    "         'Gender':['M','F','M','M','F','M','F','M','M','M'],\n",
    "          'Marks1':[65,60,45,45,83,73,54,54,46,79],\n",
    "          'Marks2':[61,71,39,96,50,53,54,34,36,29],\n",
    "         'Marks3':[30,60,77,95,90,81,52,64,65,60]}\n",
    "data = pd.DataFrame(dict_1)\n",
    "#Part-a\n",
    "data[\"Total Marks\"] = data[\"Marks1\"]+data[\"Marks2\"]+data[\"Marks3\"]\n",
    "print(\"New column 'Total Marks' created\")\n",
    "print(\"==============\")\n",
    "#Part-b\n",
    "print(\"The lowest marks in Marks1: \",data[\"Marks1\"].min())\n",
    "print(\"==============\")\n",
    "#Part-c\n",
    "print(\"The highest marks in Marks2: \",data[\"Marks2\"].max())\n",
    "print(\"==============\")\n",
    "#Part-d\n",
    "print(\"The average marks in Marks3: \",data[\"Marks3\"].mean())\n",
    "print(\"==============\")\n",
    "#Part-e\n",
    "print(\"The student with the highest average: \\n\",data['Name'][(data['Total Marks'] == data['Total Marks'].max())])\n",
    "print(\"==============\")\n",
    "#Part-f\n",
    "print(\"Number of students who failed in Marks2: \\n\", data['Name'][(data['Marks2'])<40])"
   ]
  },
  {
   "cell_type": "code",
   "execution_count": null,
   "id": "c7e9c387",
   "metadata": {},
   "outputs": [],
   "source": []
  }
 ],
 "metadata": {
  "kernelspec": {
   "display_name": "Python 3 (ipykernel)",
   "language": "python",
   "name": "python3"
  },
  "language_info": {
   "codemirror_mode": {
    "name": "ipython",
    "version": 3
   },
   "file_extension": ".py",
   "mimetype": "text/x-python",
   "name": "python",
   "nbconvert_exporter": "python",
   "pygments_lexer": "ipython3",
   "version": "3.12.7"
  }
 },
 "nbformat": 4,
 "nbformat_minor": 5
}
