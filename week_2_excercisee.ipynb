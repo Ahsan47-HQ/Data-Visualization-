{
 "cells": [
  {
   "cell_type": "code",
   "execution_count": 5,
   "id": "b180fd97-ac72-40db-9ab6-47219a91f9fa",
   "metadata": {},
   "outputs": [
    {
     "name": "stdin",
     "output_type": "stream",
     "text": [
      "Enter a list of numbers separated by spaces:  1 2 3 3 3 4 5\n",
      "Which number do you want to search for: 3\n"
     ]
    },
    {
     "name": "stdout",
     "output_type": "stream",
     "text": [
      "The largest number: 5\n",
      "The smallest number: 1\n",
      "The sum of the list: 21\n",
      "The average of the numbers: 3.0\n",
      "Count of 3 is: 3\n"
     ]
    }
   ],
   "source": [
    "'''1.Write a Python code block that inputs numbers into a list.\n",
    "Print the largest, smallest, the sum, and the average of the numbers. \n",
    "Count occurrences of a specific number in the list.\n",
    "''' \n",
    "def searching(array,number):\n",
    "    number_count=0\n",
    "    for i in array:\n",
    "        if i==number:\n",
    "            number_count+=1\n",
    "    return number_count\n",
    "\n",
    "list_1 = list(map(int, input(\"Enter a list of numbers separated by spaces: \").split()))\n",
    "num = int(input(\"Which number do you want to search for:\"))\n",
    "count = searching(list_1,num)\n",
    "print(\"The largest number:\",max(list_1))\n",
    "print(\"The smallest number:\",min(list_1))\n",
    "print(\"The sum of the list:\",sum(list_1))\n",
    "print(\"The average of the numbers:\",(sum(list_1)/len(list_1)))\n",
    "print(\"Count of\",num,\"is:\",count)"
   ]
  },
  {
   "cell_type": "code",
   "execution_count": 7,
   "id": "94137a6e-779c-4e3c-973b-dce481317733",
   "metadata": {},
   "outputs": [
    {
     "name": "stdin",
     "output_type": "stream",
     "text": [
      "Enter a tuple of five elements (comma-separated):  9,0,7,7,8\n"
     ]
    },
    {
     "name": "stdout",
     "output_type": "stream",
     "text": [
      "Carrying out the updation............\n",
      "Error while executing the statement! Tuples are immutable!\n"
     ]
    }
   ],
   "source": [
    "\"\"\"2.Write a Python code block to create a tuple with five elements.\n",
    "Try to change one of the elements and handle the error that\n",
    "occurs. Print a message that explains why the error occurred. \n",
    "\"\"\"\n",
    "tuple(map(int, input(\"Enter a tuple of five elements (comma-separated): \").split(\",\")))\n",
    "print(\"Carrying out the updation............\")\n",
    "try:\n",
    "    tuple_1[0] = 234\n",
    "except: \n",
    "    print(\"Error while executing the statement! Tuples are immutable!\")"
   ]
  },
  {
   "cell_type": "code",
   "execution_count": 18,
   "id": "ad316bf4-9867-4ef7-b9cb-3abf5e4117e3",
   "metadata": {},
   "outputs": [
    {
     "name": "stdin",
     "output_type": "stream",
     "text": [
      "Enter the dictionary of cricket world cup winners:  {1975: \"West Indies\", 1979: \"West Indies\", 1983: \"India\", 1987: \"Australia\",     1992: \"Pakistan\", 1996: \"Sri Lanka\", 1999: \"Australia\", 2003: \"Australia\",     2007: \"Australia\", 2011: \"India\", 2015: \"Australia\", 2019: \"England\",     2023: \"Australia\"}\n"
     ]
    },
    {
     "name": "stdout",
     "output_type": "stream",
     "text": [
      "The best performing country is: Australia\n",
      "The unique countries are:  {'Pakistan', 'Sri Lanka', 'England', 'Australia', 'West Indies', 'India'}\n"
     ]
    }
   ],
   "source": [
    "\"\"\"3.Write a Python code block to create a dictionary of cricket World Cup winners. \n",
    "Let the key be the year; the value is the country that won the World Cup that year. \n",
    "Print the name of the best-performing country.  \n",
    "Display the unique list of countries that have won the World Cup.  \n",
    "\"\"\"\n",
    "dict_1 = eval(input(\"Enter the dictionary of cricket world cup winners: \"))\n",
    "winners_count = {}\n",
    "for country in dict_1.values():\n",
    "    winners_count[country] = winners_count.get(country,0) + 1\n",
    "best = max(winners_count,key = winners_count.get)\n",
    "unique_c = set(dict_1.values())\n",
    "print(\"The best performing country is:\",best)\n",
    "print(\"The unique countries are: \",unique_c)"
   ]
  },
  {
   "cell_type": "code",
   "execution_count": 22,
   "id": "a8ab5292-78fe-4ad6-8997-afeaf9014020",
   "metadata": {},
   "outputs": [
    {
     "name": "stdin",
     "output_type": "stream",
     "text": [
      "Enter the string:  Hello this is Ahsan, speaking from E-Cell MIT MANIPAL. MAY AHSAN HAVE A minute minute of E-Cell MIT MIT MIT MIT\n"
     ]
    },
    {
     "name": "stdout",
     "output_type": "stream",
     "text": [
      "The final dictionary is:  {'Hello': 1, 'this': 1, 'is': 1, 'Ahsan,': 1, 'speaking': 1, 'from': 1, 'E-Cell': 2, 'MIT': 5, 'MANIPAL.': 1, 'MAY': 1, 'AHSAN': 1, 'HAVE': 1, 'A': 1, 'minute': 2, 'of': 1}\n"
     ]
    }
   ],
   "source": [
    "'''4. Write a Python code block that inputs a sentence from the user.\n",
    "Count the frequency of each word in the sentence and store the result in a dictionary.\n",
    "Print the dictionary with words as keys and their frequencies as values\n",
    "'''\n",
    "string = input(\"Enter the string: \")\n",
    "counter = {}\n",
    "for word in string.split():\n",
    "    counter[word] = counter.get(word,0)+1\n",
    "print(\"The final dictionary is: \",counter)"
   ]
  },
  {
   "cell_type": "code",
   "execution_count": 26,
   "id": "69aad6d3-ef34-4df9-8f57-4b6676ca944a",
   "metadata": {},
   "outputs": [
    {
     "name": "stdin",
     "output_type": "stream",
     "text": [
      "Enter the set1:  {1,2,2,3,4,5,6,6,6,7}\n",
      "Enter the set2:  {2,7,9,11,23,34}\n"
     ]
    },
    {
     "name": "stdout",
     "output_type": "stream",
     "text": [
      "The union of set1 and set2:  {1, 2, 3, 4, 5, 6, 7, 34, 9, 11, 23}\n",
      "The intersection of set1 and set2:  {2, 7}\n",
      "The difference s1-s2:  {1, 3, 4, 5, 6}\n",
      "The difference s2-s1:  {9, 34, 11, 23}\n"
     ]
    }
   ],
   "source": [
    "'''5. Write a Python code block to input numbers into two sets. \n",
    "Perform union, intersection, and difference operations on the sets and print the results.\n",
    "'''\n",
    "s1 = eval(input(\"Enter the set1: \"))\n",
    "s2 = eval(input(\"Enter the set2: \"))\n",
    "print(\"The union of set1 and set2: \",s1.union(s2))\n",
    "print(\"The intersection of set1 and set2: \",s1.intersection(s2))\n",
    "print(\"The difference s1-s2: \",s1-s2)\n",
    "print(\"The difference s2-s1: \",s2-s1)"
   ]
  },
  {
   "cell_type": "code",
   "execution_count": null,
   "id": "4064368a-d5ea-4017-b50e-430a15a3ba5d",
   "metadata": {},
   "outputs": [],
   "source": []
  }
 ],
 "metadata": {
  "kernelspec": {
   "display_name": "Python 3 (ipykernel)",
   "language": "python",
   "name": "python3"
  },
  "language_info": {
   "codemirror_mode": {
    "name": "ipython",
    "version": 3
   },
   "file_extension": ".py",
   "mimetype": "text/x-python",
   "name": "python",
   "nbconvert_exporter": "python",
   "pygments_lexer": "ipython3",
   "version": "3.12.7"
  }
 },
 "nbformat": 4,
 "nbformat_minor": 5
}
