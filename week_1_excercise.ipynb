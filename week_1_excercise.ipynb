{
 "cells": [
  {
   "cell_type": "code",
   "execution_count": 17,
   "id": "0cad2042",
   "metadata": {},
   "outputs": [
    {
     "name": "stdout",
     "output_type": "stream",
     "text": [
      "Enter the first number: 5\n",
      "Enter the second number: 3.4\n",
      "The sum is: 8.4\n",
      "The difference is: 1.6\n",
      "The product is: 17.0\n",
      "The quotient is: 1.4705882352941178\n"
     ]
    }
   ],
   "source": [
    "#Program-1: Write a Python function to input two numbers and perform the Calculator operations of (+, -, *, /).  \n",
    "# Performing the operations\n",
    "def Calculator(a,b):\n",
    "    sum = a+b\n",
    "    diff = a-b\n",
    "    prod = a*b\n",
    "    quo = a/b\n",
    "    return sum,diff,prod,quo\n",
    "\n",
    "#Main Program follows here\n",
    "num1 = float(input(\"Enter the first number: \"))\n",
    "num2 = float(input(\"Enter the second number: \"))\n",
    "\n",
    "# Printing the results\n",
    "\n",
    "s,d,p,q = Calculator(num1,num2)\n",
    "print(\"The sum is:\",s)\n",
    "print(\"The difference is:\",d)\n",
    "print(\"The product is:\",p)\n",
    "print(\"The quotient is:\",q)"
   ]
  },
  {
   "cell_type": "code",
   "execution_count": 25,
   "id": "758047f3",
   "metadata": {},
   "outputs": [
    {
     "name": "stdout",
     "output_type": "stream",
     "text": [
      "Enter the number: 4\n",
      "The given number is not prime!\n"
     ]
    }
   ],
   "source": [
    "#Program-2: Write a Python function that takes an integer and returns True if it’s a prime number and False otherwise. \n",
    "import math\n",
    "def prime_checker(num):\n",
    "    for i in range(2,int(math.sqrt(num))+1):\n",
    "        if num%i==0:\n",
    "            return False\n",
    "    return True\n",
    "#Main Code follows here\n",
    "number = int(input(\"Enter the number: \"))\n",
    "res = prime_checker(number)\n",
    "if res==True:\n",
    "    print(\"The given number is prime!\")\n",
    "else:\n",
    "    print(\"The given number is not prime!\")"
   ]
  },
  {
   "cell_type": "code",
   "execution_count": 37,
   "id": "aee605ab",
   "metadata": {},
   "outputs": [
    {
     "name": "stdout",
     "output_type": "stream",
     "text": [
      "3\n",
      "5\n",
      "7\n",
      "9\n",
      "11\n",
      "13\n",
      "15\n",
      "17\n",
      "19\n",
      "21\n",
      "23\n",
      "25\n",
      "27\n",
      "29\n",
      "31\n",
      "33\n",
      "35\n",
      "37\n",
      "39\n",
      "41\n",
      "43\n",
      "45\n",
      "47\n",
      "49\n",
      "51\n",
      "53\n",
      "55\n",
      "57\n",
      "59\n",
      "61\n",
      "63\n",
      "65\n",
      "67\n",
      "69\n",
      "71\n",
      "73\n",
      "75\n",
      "77\n",
      "79\n",
      "81\n",
      "83\n",
      "85\n",
      "87\n",
      "89\n",
      "91\n",
      "93\n",
      "95\n",
      "97\n",
      "99\n",
      "The sum of even numbers is: 2450\n"
     ]
    }
   ],
   "source": [
    "#Program-3: Create a Python function that creates a sequence between 1 and 100 and prints all the odd numbers.\n",
    "#Compute and display the sum of all the even numbers. \n",
    "def Sequence():\n",
    "    seq = list(i for i in range(2,100))\n",
    "    even_sum = 0\n",
    "    for i in seq:\n",
    "        if i%2!=0:\n",
    "            print(i)\n",
    "        else:\n",
    "            even_sum+=i\n",
    "    return even_sum\n",
    "#Main Code follows here\n",
    "w = Sequence()\n",
    "print('The sum of even numbers is:',w)"
   ]
  },
  {
   "cell_type": "code",
   "execution_count": 42,
   "id": "59c7bbb5",
   "metadata": {},
   "outputs": [
    {
     "name": "stdout",
     "output_type": "stream",
     "text": [
      "Welcome to Addition Calc!\n",
      "Enter str for strings,int for integers, float for floating point numbersint\n",
      "Enter the first integer: 4\n",
      "Enter the second integer: 5\n",
      "9\n"
     ]
    }
   ],
   "source": [
    "#Program-4: Write a Python function to add two elements and display the result. \n",
    "#The elements can be of type integer, float or string. \n",
    "def add(a,b):\n",
    "    res = a+b\n",
    "    return res\n",
    "#Main code follows here\n",
    "print(\"Welcome to Addition Calc!\")\n",
    "choice = input(\"Enter str for strings,int for integers, float for floating point numbers\")\n",
    "if choice.lower()=='str':\n",
    "    elem1 = input(\"Enter the first string: \")\n",
    "    elem2 = input(\"Enter the second string: \")\n",
    "    print(\"The sum is:\",add(elem1,elem2))\n",
    "elif choice.lower()=='int':\n",
    "    elem1 = int(input(\"Enter the first integer: \"))\n",
    "    elem2 = int(input(\"Enter the second integer: \"))\n",
    "    print(\"The sum is:\",add(elem1,elem2))\n",
    "elif choice.lower()=='float':\n",
    "    elem1 = float(input(\"Enter the first integer: \"))\n",
    "    elem2 = float(input(\"Enter the second integer: \"))\n",
    "    print(\"The sum is:\",add(elem1,elem2))\n",
    "else:\n",
    "    print(\"Invalid input\")"
   ]
  },
  {
   "cell_type": "markdown",
   "id": "9d205caf",
   "metadata": {},
   "source": []
  },
  {
   "cell_type": "code",
   "execution_count": 43,
   "id": "bea47a4f",
   "metadata": {},
   "outputs": [
    {
     "name": "stdout",
     "output_type": "stream",
     "text": [
      "Enter a string of only alphabets:Hell\n",
      "Vowels , Consonants: 1 , 3\n"
     ]
    }
   ],
   "source": [
    "#Program-5:Write a Python function that takes a string input from the user and \n",
    "#counts the number of vowels and consonants in the string. \n",
    "def count_in_string(string):\n",
    "    v_count =0\n",
    "    c_count =0\n",
    "    for i in string:\n",
    "        if i in 'AEIOUaeiou':\n",
    "            v_count+=1\n",
    "        else:\n",
    "            c_count+=1\n",
    "    return v_count,c_count\n",
    "#Main code follows here\n",
    "string_1 = input(\"Enter a string of only alphabets:\")\n",
    "v,c = count_in_string(string_1)\n",
    "print(\"Vowels , Consonants:\",v,',',c)"
   ]
  },
  {
   "cell_type": "code",
   "execution_count": null,
   "id": "ce1252a6",
   "metadata": {},
   "outputs": [],
   "source": []
  }
 ],
 "metadata": {
  "kernelspec": {
   "display_name": "Python 3 (ipykernel)",
   "language": "python",
   "name": "python3"
  },
  "language_info": {
   "codemirror_mode": {
    "name": "ipython",
    "version": 3
   },
   "file_extension": ".py",
   "mimetype": "text/x-python",
   "name": "python",
   "nbconvert_exporter": "python",
   "pygments_lexer": "ipython3",
   "version": "3.9.13"
  }
 },
 "nbformat": 4,
 "nbformat_minor": 5
}
